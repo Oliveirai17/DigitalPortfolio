{
 "cells": [
  {
   "cell_type": "markdown",
   "id": "8035c67a",
   "metadata": {},
   "source": [
    "Escreva um programa que exiba os números de 1 a 10 na tela."
   ]
  },
  {
   "cell_type": "code",
   "execution_count": null,
   "id": "f5b4cdf7",
   "metadata": {},
   "outputs": [],
   "source": [
    "def um_a_dez():\n",
    "    lista = [1,2,3,4,5,6,7,8,9,10]\n",
    "    for i in lista:\n",
    "        print (i)"
   ]
  },
  {
   "cell_type": "markdown",
   "id": "f7a8f4b4",
   "metadata": {},
   "source": [
    "Crie um programa que calcule a média de uma lista de números."
   ]
  },
  {
   "cell_type": "code",
   "execution_count": 5,
   "id": "57db56c4",
   "metadata": {},
   "outputs": [
    {
     "name": "stdout",
     "output_type": "stream",
     "text": [
      "5.7\n"
     ]
    }
   ],
   "source": [
    "def media_Lista(lista):\n",
    "    media = sum (lista)/ len(lista)\n",
    "    media = round(media,1)\n",
    "    return media"
   ]
  },
  {
   "cell_type": "markdown",
   "id": "d3b344ab",
   "metadata": {},
   "source": [
    "Escreva uma função que verifique se um número é primo."
   ]
  },
  {
   "cell_type": "code",
   "execution_count": null,
   "id": "a202f18e",
   "metadata": {},
   "outputs": [],
   "source": [
    "def e_Primo(num):\n",
    "    if num <= 1:\n",
    "        return False\n",
    "    \n",
    "    for i in range(2, int(num ** 0.5) +1 ):\n",
    "        if num % i == 0:\n",
    "            return False\n",
    "       \n",
    "    return True"
   ]
  },
  {
   "cell_type": "markdown",
   "id": "98a2b04e",
   "metadata": {},
   "source": [
    "Implemente um programa que converta uma temperatura em graus Celsius para Fahrenheit"
   ]
  },
  {
   "cell_type": "code",
   "execution_count": null,
   "id": "f1d089ba",
   "metadata": {},
   "outputs": [],
   "source": [
    "def C_para_F(temp):\n",
    "    return (temp * 9/5) + 32"
   ]
  },
  {
   "cell_type": "markdown",
   "id": "5c99c10a",
   "metadata": {},
   "source": [
    "Crie uma função que conte o número de vogais em uma string"
   ]
  },
  {
   "cell_type": "code",
   "execution_count": null,
   "id": "a4719650",
   "metadata": {},
   "outputs": [],
   "source": [
    "def num_Vogais(palavra):\n",
    "    soma = 0\n",
    "    vogais = 'aeiouAEIOU'\n",
    "    for letra in palavra:\n",
    "        if letra in vogais:\n",
    "            soma +=1\n",
    "    \n",
    "    return soma                "
   ]
  },
  {
   "cell_type": "markdown",
   "id": "42347374",
   "metadata": {},
   "source": [
    "Faça um programa que leia uma lista de palavras e retorne a mais longa"
   ]
  },
  {
   "cell_type": "code",
   "execution_count": null,
   "id": "fa418a76",
   "metadata": {},
   "outputs": [],
   "source": [
    "def palavra_Longa (listaPalavra):\n",
    "    maisLonga = ''\n",
    "    for palavra in listaPalavra:\n",
    "        if len(palavra) > len(maisLonga):\n",
    "            maisLonga = palavra\n",
    "    \n",
    "    return maisLonga"
   ]
  },
  {
   "cell_type": "markdown",
   "id": "95d737c3",
   "metadata": {},
   "source": [
    "Escreva uma função que inverte uma string."
   ]
  },
  {
   "cell_type": "code",
   "execution_count": null,
   "id": "6cfd9b46",
   "metadata": {},
   "outputs": [],
   "source": [
    "def inverte_String (palavra):\n",
    "    return palavra[::-1]    "
   ]
  },
  {
   "cell_type": "markdown",
   "id": "859f2cdf",
   "metadata": {},
   "source": [
    "Implemente um programa que encontre o maior elemento em uma lista."
   ]
  },
  {
   "cell_type": "code",
   "execution_count": null,
   "id": "c20a1189",
   "metadata": {},
   "outputs": [],
   "source": [
    "def maiorElemento (lista):\n",
    "    maiorInt = 0\n",
    "    maiorStr = ''\n",
    "    \n",
    "    for item in lista:\n",
    "        if type(item) == int:\n",
    "            if item > maiorInt:\n",
    "                maiorInt = item\n",
    "        elif type(item) == str:\n",
    "            if len(item) > len(maiorStr):\n",
    "                maiorStr = item\n",
    "        else: \n",
    "            print ('Elemento inválido')\n",
    "    return (maiorInt, maiorStr)"
   ]
  },
  {
   "cell_type": "markdown",
   "id": "ddd09c34",
   "metadata": {},
   "source": [
    "Crie uma função que verifique se uma palavra é um palíndromo."
   ]
  },
  {
   "cell_type": "code",
   "execution_count": null,
   "id": "fc349379",
   "metadata": {},
   "outputs": [],
   "source": [
    "def palidromo (palavra):\n",
    "    palid = inverte_String(palavra)\n",
    "    \n",
    "    if palavra == palid:\n",
    "        return True\n",
    "    else:\n",
    "        return False"
   ]
  },
  {
   "cell_type": "markdown",
   "id": "be69d41d",
   "metadata": {},
   "source": [
    "Faça um programa que leia um arquivo de texto e conte o número de ocorrências de cada palavra."
   ]
  },
  {
   "cell_type": "code",
   "execution_count": null,
   "id": "9d047bb5",
   "metadata": {},
   "outputs": [],
   "source": [
    "def num_Ocorrencias (arquivo):\n",
    "    ocorrencias = {}\n",
    "    with open(arquivo,'r') as file:\n",
    "        for linha in file:\n",
    "            palavras = linha.strip().split()\n",
    "            for palavra in palavras:\n",
    "                if palavra in ocorrencias:\n",
    "                    ocorrencias[palavra] += 1\n",
    "                else:\n",
    "                    ocorrencias[palavra] = 1\n",
    "                    \n",
    "    return ocorrencias\n",
    "\n",
    "arquivo = 'arquivo.txt'\n",
    "resultado = num_Ocorrencias(arquivo)\n",
    "for palavra, ocorrencia in resultado.items():\n",
    "    print (f'A palavra \"{palavra}\" ocorre {ocorrencia} vezes.')"
   ]
  },
  {
   "cell_type": "code",
   "execution_count": null,
   "id": "2bb17343",
   "metadata": {},
   "outputs": [],
   "source": []
  }
 ],
 "metadata": {
  "kernelspec": {
   "display_name": "Python 3 (ipykernel)",
   "language": "python",
   "name": "python3"
  },
  "language_info": {
   "codemirror_mode": {
    "name": "ipython",
    "version": 3
   },
   "file_extension": ".py",
   "mimetype": "text/x-python",
   "name": "python",
   "nbconvert_exporter": "python",
   "pygments_lexer": "ipython3",
   "version": "3.10.9"
  }
 },
 "nbformat": 4,
 "nbformat_minor": 5
}
