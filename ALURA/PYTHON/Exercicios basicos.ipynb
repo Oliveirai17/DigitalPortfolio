{
 "cells": [
  {
   "cell_type": "markdown",
   "id": "8035c67a",
   "metadata": {},
   "source": [
    "1 - Escreva um programa que exiba os números de 1 a 10 na tela."
   ]
  },
  {
   "cell_type": "code",
   "execution_count": 2,
   "id": "f5b4cdf7",
   "metadata": {},
   "outputs": [
    {
     "name": "stdout",
     "output_type": "stream",
     "text": [
      "1\n",
      "2\n",
      "3\n",
      "4\n",
      "5\n",
      "6\n",
      "7\n",
      "8\n",
      "9\n",
      "10\n"
     ]
    }
   ],
   "source": [
    "def um_a_dez():\n",
    "    lista = [1,2,3,4,5,6,7,8,9,10]\n",
    "    for i in lista:\n",
    "        print (i)\n",
    "um_a_dez()"
   ]
  },
  {
   "cell_type": "markdown",
   "id": "f7a8f4b4",
   "metadata": {},
   "source": [
    "Crie um programa que calcule a média de uma lista de números."
   ]
  },
  {
   "cell_type": "code",
   "execution_count": 6,
   "id": "57db56c4",
   "metadata": {},
   "outputs": [
    {
     "name": "stdout",
     "output_type": "stream",
     "text": [
      "8.333333333333334\n"
     ]
    }
   ],
   "source": [
    "def media_Lista(lista):\n",
    "    tamList = len(lista)\n",
    "    soma = 0\n",
    "    for i in lista:\n",
    "        soma = soma + i\n",
    "    media = soma / tamList\n",
    "    return media\n",
    "\n",
    "print(media_Lista([7,8,10]))"
   ]
  },
  {
   "cell_type": "markdown",
   "id": "d3b344ab",
   "metadata": {},
   "source": [
    "Escreva uma função que verifique se um número é primo."
   ]
  },
  {
   "cell_type": "code",
   "execution_count": 15,
   "id": "a202f18e",
   "metadata": {},
   "outputs": [
    {
     "data": {
      "text/plain": [
       "False"
      ]
     },
     "execution_count": 15,
     "metadata": {},
     "output_type": "execute_result"
    }
   ],
   "source": [
    "def e_Primo(num):\n",
    "    if num <= 1:\n",
    "        return False\n",
    "    \n",
    "    for i in range(2, int(num ** 0.5) +1 ):\n",
    "        if num % i == 0:\n",
    "            return False\n",
    "       \n",
    "    return True\n",
    "\n",
    "e_Primo(12)"
   ]
  },
  {
   "cell_type": "markdown",
   "id": "98a2b04e",
   "metadata": {},
   "source": [
    "Implemente um programa que converta uma temperatura em graus Celsius para Fahrenheit"
   ]
  },
  {
   "cell_type": "code",
   "execution_count": 16,
   "id": "f1d089ba",
   "metadata": {},
   "outputs": [
    {
     "name": "stdout",
     "output_type": "stream",
     "text": [
      "77.0\n"
     ]
    }
   ],
   "source": [
    "def C_para_F(temp):\n",
    "    return (temp * 9/5) + 32\n",
    "\n",
    "print(C_para_F(25))"
   ]
  },
  {
   "cell_type": "markdown",
   "id": "5c99c10a",
   "metadata": {},
   "source": [
    "Crie uma função que conte o número de vogais em uma string"
   ]
  },
  {
   "cell_type": "code",
   "execution_count": 25,
   "id": "a4719650",
   "metadata": {},
   "outputs": [
    {
     "name": "stdout",
     "output_type": "stream",
     "text": [
      "3\n"
     ]
    }
   ],
   "source": [
    "def num_Vogais(palavra):\n",
    "    soma = 0\n",
    "    vogais = 'aeiouAEIOU'\n",
    "    for letra in palavra:\n",
    "        if letra in vogais:\n",
    "            soma +=1\n",
    "    \n",
    "    return soma\n",
    "\n",
    "print (num_Vogais('gibraltar'))\n",
    "                "
   ]
  },
  {
   "cell_type": "markdown",
   "id": "42347374",
   "metadata": {},
   "source": [
    "Faça um programa que leia uma lista de palavras e retorne a mais longa"
   ]
  },
  {
   "cell_type": "code",
   "execution_count": 34,
   "id": "fa418a76",
   "metadata": {},
   "outputs": [
    {
     "name": "stdout",
     "output_type": "stream",
     "text": [
      "linha de fundo\n"
     ]
    }
   ],
   "source": [
    "def palavra_Longa (listaPalavra):\n",
    "    maisLonga = ''\n",
    "    for palavra in listaPalavra:\n",
    "        if len(palavra) > len(maisLonga):\n",
    "            maisLonga = palavra\n",
    "    \n",
    "    return maisLonga\n",
    "\n",
    "lista = ['carro','tamanho','modric','linha de fundo']\n",
    "print (palavra_Longa(lista))"
   ]
  },
  {
   "cell_type": "markdown",
   "id": "95d737c3",
   "metadata": {},
   "source": [
    "Escreva uma função que inverte uma string."
   ]
  },
  {
   "cell_type": "code",
   "execution_count": 32,
   "id": "6cfd9b46",
   "metadata": {},
   "outputs": [
    {
     "data": {
      "text/plain": [
       "'anuL'"
      ]
     },
     "execution_count": 32,
     "metadata": {},
     "output_type": "execute_result"
    }
   ],
   "source": [
    "def inverte_String (palavra):\n",
    "    return palavra[::-1]\n",
    "    \n",
    "\n",
    "inverte_String('Luna')\n",
    "    "
   ]
  },
  {
   "cell_type": "markdown",
   "id": "859f2cdf",
   "metadata": {},
   "source": [
    "Implemente um programa que encontre o maior elemento em uma lista."
   ]
  },
  {
   "cell_type": "code",
   "execution_count": 26,
   "id": "c20a1189",
   "metadata": {},
   "outputs": [
    {
     "name": "stdout",
     "output_type": "stream",
     "text": [
      "Maior número: 7\n",
      "Maior palavra: Luna\n"
     ]
    }
   ],
   "source": [
    "def maiorElemento (lista):\n",
    "    maiorInt = 0\n",
    "    maiorStr = ''\n",
    "    \n",
    "    for item in lista:\n",
    "        if type(item) == int:\n",
    "            if item > maiorInt:\n",
    "                maiorInt = item\n",
    "        elif type(item) == str:\n",
    "            if len(item) > len(maiorStr):\n",
    "                maiorStr = item\n",
    "        else: \n",
    "            print ('Elemento inválido')\n",
    "            \n",
    "    print (f'Maior número: {maiorInt}')\n",
    "    print (f'Maior palavra: {maiorStr}')\n",
    "    \n",
    "maiorElemento ([1,2,3,'Luna','Lua',7])"
   ]
  },
  {
   "cell_type": "markdown",
   "id": "ddd09c34",
   "metadata": {},
   "source": [
    "Crie uma função que verifique se uma palavra é um palíndromo."
   ]
  },
  {
   "cell_type": "code",
   "execution_count": 35,
   "id": "fc349379",
   "metadata": {},
   "outputs": [
    {
     "data": {
      "text/plain": [
       "False"
      ]
     },
     "execution_count": 35,
     "metadata": {},
     "output_type": "execute_result"
    }
   ],
   "source": [
    "def palidromo (palavra):\n",
    "    palid = inverte_String(palavra)\n",
    "    \n",
    "    if palavra == palid:\n",
    "        return True\n",
    "    else:\n",
    "        return False\n",
    "    \n",
    "palidromo('Luna')"
   ]
  },
  {
   "cell_type": "markdown",
   "id": "be69d41d",
   "metadata": {},
   "source": [
    "Faça um programa que leia um arquivo de texto e conte o número de ocorrências de cada palavra."
   ]
  },
  {
   "cell_type": "code",
   "execution_count": 39,
   "id": "9d047bb5",
   "metadata": {},
   "outputs": [
    {
     "name": "stdout",
     "output_type": "stream",
     "text": [
      "A palavra \"A\" ocorre 1 vezes.\n",
      "A palavra \"quantidade\" ocorre 3 vezes.\n",
      "A palavra \"de\" ocorre 9 vezes.\n",
      "A palavra \"gordura\" ocorre 5 vezes.\n",
      "A palavra \"vegetal\" ocorre 3 vezes.\n",
      "A palavra \"necessÃ¡ria\" ocorre 1 vezes.\n",
      "A palavra \"para\" ocorre 3 vezes.\n",
      "A palavra \"fritar\" ocorre 2 vezes.\n",
      "A palavra \"100\" ocorre 1 vezes.\n",
      "A palavra \"mini\" ocorre 2 vezes.\n",
      "A palavra \"salgados\" ocorre 2 vezes.\n",
      "A palavra \"pode\" ocorre 3 vezes.\n",
      "A palavra \"variar\" ocorre 1 vezes.\n",
      "A palavra \"dependendo\" ocorre 1 vezes.\n",
      "A palavra \"do\" ocorre 2 vezes.\n",
      "A palavra \"tamanho\" ocorre 1 vezes.\n",
      "A palavra \"dos\" ocorre 1 vezes.\n",
      "A palavra \"salgados,\" ocorre 1 vezes.\n",
      "A palavra \"mÃ©todo\" ocorre 1 vezes.\n",
      "A palavra \"fritura\" ocorre 2 vezes.\n",
      "A palavra \"e\" ocorre 2 vezes.\n",
      "A palavra \"da\" ocorre 2 vezes.\n",
      "A palavra \"preferÃªncia\" ocorre 1 vezes.\n",
      "A palavra \"pessoal.\" ocorre 1 vezes.\n",
      "A palavra \"No\" ocorre 1 vezes.\n",
      "A palavra \"entanto,\" ocorre 1 vezes.\n",
      "A palavra \"posso\" ocorre 1 vezes.\n",
      "A palavra \"fornecer\" ocorre 1 vezes.\n",
      "A palavra \"uma\" ocorre 3 vezes.\n",
      "A palavra \"estimativa\" ocorre 2 vezes.\n",
      "A palavra \"geral.\" ocorre 1 vezes.\n",
      "A palavra \"Normalmente,\" ocorre 1 vezes.\n",
      "A palavra \"recomenda-se\" ocorre 1 vezes.\n",
      "A palavra \"proporÃ§Ã£o\" ocorre 1 vezes.\n",
      "A palavra \"aproximadamente\" ocorre 2 vezes.\n",
      "A palavra \"500\" ocorre 2 vezes.\n",
      "A palavra \"ml\" ocorre 2 vezes.\n",
      "A palavra \"Ã³leo\" ocorre 1 vezes.\n",
      "A palavra \"ou\" ocorre 1 vezes.\n",
      "A palavra \"1\" ocorre 2 vezes.\n",
      "A palavra \"kg\" ocorre 1 vezes.\n",
      "A palavra \"alimentos.\" ocorre 1 vezes.\n",
      "A palavra \"Isso\" ocorre 1 vezes.\n",
      "A palavra \"significa\" ocorre 1 vezes.\n",
      "A palavra \"que,\" ocorre 1 vezes.\n",
      "A palavra \"se\" ocorre 2 vezes.\n",
      "A palavra \"os\" ocorre 1 vezes.\n",
      "A palavra \"pesam\" ocorre 1 vezes.\n",
      "A palavra \"cerca\" ocorre 1 vezes.\n",
      "A palavra \"kg,\" ocorre 1 vezes.\n",
      "A palavra \"vocÃª\" ocorre 1 vezes.\n",
      "A palavra \"precisaria\" ocorre 1 vezes.\n",
      "A palavra \"vegetal.\" ocorre 1 vezes.\n",
      "A palavra \"Lembre-se\" ocorre 1 vezes.\n",
      "A palavra \"que\" ocorre 2 vezes.\n",
      "A palavra \"essa\" ocorre 1 vezes.\n",
      "A palavra \"Ã©\" ocorre 1 vezes.\n",
      "A palavra \"apenas\" ocorre 1 vezes.\n",
      "A palavra \"aproximada.\" ocorre 1 vezes.\n",
      "A palavra \"Ã‰\" ocorre 1 vezes.\n",
      "A palavra \"sempre\" ocorre 1 vezes.\n",
      "A palavra \"bom\" ocorre 1 vezes.\n",
      "A palavra \"verificar\" ocorre 1 vezes.\n",
      "A palavra \"as\" ocorre 2 vezes.\n",
      "A palavra \"instruÃ§Ãµes\" ocorre 2 vezes.\n",
      "A palavra \"fornecidas\" ocorre 1 vezes.\n",
      "A palavra \"pelo\" ocorre 1 vezes.\n",
      "A palavra \"fabricante\" ocorre 1 vezes.\n",
      "A palavra \"ajustar\" ocorre 1 vezes.\n",
      "A palavra \"a\" ocorre 3 vezes.\n",
      "A palavra \"conforme\" ocorre 1 vezes.\n",
      "A palavra \"necessÃ¡rio,\" ocorre 1 vezes.\n",
      "A palavra \"especialmente\" ocorre 1 vezes.\n",
      "A palavra \"especÃ­ficas\" ocorre 1 vezes.\n",
      "A palavra \"estiverem\" ocorre 1 vezes.\n",
      "A palavra \"disponÃ­veis.\" ocorre 1 vezes.\n",
      "A palavra \"AlÃ©m\" ocorre 1 vezes.\n",
      "A palavra \"disso,\" ocorre 1 vezes.\n",
      "A palavra \"utilizada\" ocorre 1 vezes.\n",
      "A palavra \"ter\" ocorre 1 vezes.\n",
      "A palavra \"densidades\" ocorre 1 vezes.\n",
      "A palavra \"diferentes,\" ocorre 1 vezes.\n",
      "A palavra \"o\" ocorre 1 vezes.\n",
      "A palavra \"tambÃ©m\" ocorre 1 vezes.\n",
      "A palavra \"afetar\" ocorre 1 vezes.\n",
      "A palavra \"necessÃ¡ria.\" ocorre 1 vezes.\n"
     ]
    }
   ],
   "source": [
    "def num_Ocorrencias (arquivo):\n",
    "    ocorrencias = {}\n",
    "    with open(arquivo,'r') as file:\n",
    "        for linha in file:\n",
    "            palavras = linha.strip().split()\n",
    "            for palavra in palavras:\n",
    "                if palavra in ocorrencias:\n",
    "                    ocorrencias[palavra] += 1\n",
    "                else:\n",
    "                    ocorrencias[palavra] = 1\n",
    "                    \n",
    "    return ocorrencias\n",
    "\n",
    "arquivo = 'arquivo.txt'\n",
    "resultado = num_Ocorrencias(arquivo)\n",
    "for palavra, ocorrencia in resultado.items():\n",
    "    print (f'A palavra \"{palavra}\" ocorre {ocorrencia} vezes.')"
   ]
  },
  {
   "cell_type": "code",
   "execution_count": null,
   "id": "2bb17343",
   "metadata": {},
   "outputs": [],
   "source": []
  }
 ],
 "metadata": {
  "kernelspec": {
   "display_name": "Python 3 (ipykernel)",
   "language": "python",
   "name": "python3"
  },
  "language_info": {
   "codemirror_mode": {
    "name": "ipython",
    "version": 3
   },
   "file_extension": ".py",
   "mimetype": "text/x-python",
   "name": "python",
   "nbconvert_exporter": "python",
   "pygments_lexer": "ipython3",
   "version": "3.10.9"
  }
 },
 "nbformat": 4,
 "nbformat_minor": 5
}
