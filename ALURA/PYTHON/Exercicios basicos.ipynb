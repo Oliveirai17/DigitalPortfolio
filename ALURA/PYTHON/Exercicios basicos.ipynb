{
 "cells": [
  {
   "cell_type": "markdown",
   "id": "8035c67a",
   "metadata": {},
   "source": [
    "1 - Escreva um programa que exiba os números de 1 a 10 na tela."
   ]
  },
  {
   "cell_type": "code",
   "execution_count": 2,
   "id": "f5b4cdf7",
   "metadata": {},
   "outputs": [
    {
     "name": "stdout",
     "output_type": "stream",
     "text": [
      "1\n",
      "2\n",
      "3\n",
      "4\n",
      "5\n",
      "6\n",
      "7\n",
      "8\n",
      "9\n",
      "10\n"
     ]
    }
   ],
   "source": [
    "def um_a_dez():\n",
    "    lista = [1,2,3,4,5,6,7,8,9,10]\n",
    "    for i in lista:\n",
    "        print (i)\n",
    "um_a_dez()"
   ]
  },
  {
   "cell_type": "markdown",
   "id": "f7a8f4b4",
   "metadata": {},
   "source": [
    "Crie um programa que calcule a média de uma lista de números."
   ]
  },
  {
   "cell_type": "code",
   "execution_count": 6,
   "id": "57db56c4",
   "metadata": {},
   "outputs": [
    {
     "name": "stdout",
     "output_type": "stream",
     "text": [
      "8.333333333333334\n"
     ]
    }
   ],
   "source": [
    "def media_Lista(lista):\n",
    "    tamList = len(lista)\n",
    "    soma = 0\n",
    "    for i in lista:\n",
    "        soma = soma + i\n",
    "    media = soma / tamList\n",
    "    return media\n",
    "\n",
    "print(media_Lista([7,8,10]))"
   ]
  },
  {
   "cell_type": "markdown",
   "id": "d3b344ab",
   "metadata": {},
   "source": [
    "Escreva uma função que verifique se um número é primo."
   ]
  },
  {
   "cell_type": "code",
   "execution_count": 15,
   "id": "a202f18e",
   "metadata": {},
   "outputs": [
    {
     "data": {
      "text/plain": [
       "False"
      ]
     },
     "execution_count": 15,
     "metadata": {},
     "output_type": "execute_result"
    }
   ],
   "source": [
    "def e_Primo(num):\n",
    "    if num <= 1:\n",
    "        return False\n",
    "    \n",
    "    for i in range(2, int(num ** 0.5) +1 ):\n",
    "        if num % i == 0:\n",
    "            return False\n",
    "       \n",
    "    return True\n",
    "\n",
    "e_Primo(12)"
   ]
  },
  {
   "cell_type": "markdown",
   "id": "98a2b04e",
   "metadata": {},
   "source": [
    "Implemente um programa que converta uma temperatura em graus Celsius para Fahrenheit"
   ]
  },
  {
   "cell_type": "code",
   "execution_count": 16,
   "id": "f1d089ba",
   "metadata": {},
   "outputs": [
    {
     "name": "stdout",
     "output_type": "stream",
     "text": [
      "77.0\n"
     ]
    }
   ],
   "source": [
    "def C_para_F(temp):\n",
    "    return (temp * 9/5) + 32\n",
    "\n",
    "print(C_para_F(25))"
   ]
  },
  {
   "cell_type": "markdown",
   "id": "5c99c10a",
   "metadata": {},
   "source": [
    "Crie uma função que conte o número de vogais em uma string"
   ]
  },
  {
   "cell_type": "code",
   "execution_count": 25,
   "id": "a4719650",
   "metadata": {},
   "outputs": [
    {
     "name": "stdout",
     "output_type": "stream",
     "text": [
      "3\n"
     ]
    }
   ],
   "source": [
    "def num_Vogais(palavra):\n",
    "    soma = 0\n",
    "    vogais = 'aeiouAEIOU'\n",
    "    for letra in palavra:\n",
    "        if letra in vogais:\n",
    "            soma +=1\n",
    "    \n",
    "    return soma\n",
    "\n",
    "print (num_Vogais('gibraltar'))\n",
    "                "
   ]
  },
  {
   "cell_type": "markdown",
   "id": "42347374",
   "metadata": {},
   "source": [
    "Faça um programa que leia uma lista de palavras e retorne a mais longa"
   ]
  },
  {
   "cell_type": "code",
   "execution_count": 34,
   "id": "fa418a76",
   "metadata": {},
   "outputs": [
    {
     "name": "stdout",
     "output_type": "stream",
     "text": [
      "linha de fundo\n"
     ]
    }
   ],
   "source": [
    "def palavra_Longa (listaPalavra):\n",
    "    maisLonga = ''\n",
    "    for palavra in listaPalavra:\n",
    "        if len(palavra) > len(maisLonga):\n",
    "            maisLonga = palavra\n",
    "    \n",
    "    return maisLonga\n",
    "\n",
    "lista = ['carro','tamanho','modric','linha de fundo']\n",
    "print (palavra_Longa(lista))"
   ]
  },
  {
   "cell_type": "code",
   "execution_count": null,
   "id": "da864b33",
   "metadata": {},
   "outputs": [],
   "source": []
  }
 ],
 "metadata": {
  "kernelspec": {
   "display_name": "Python 3 (ipykernel)",
   "language": "python",
   "name": "python3"
  },
  "language_info": {
   "codemirror_mode": {
    "name": "ipython",
    "version": 3
   },
   "file_extension": ".py",
   "mimetype": "text/x-python",
   "name": "python",
   "nbconvert_exporter": "python",
   "pygments_lexer": "ipython3",
   "version": "3.10.9"
  }
 },
 "nbformat": 4,
 "nbformat_minor": 5
}
